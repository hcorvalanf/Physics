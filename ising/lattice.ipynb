{
 "cells": [
  {
   "cell_type": "code",
   "execution_count": 2,
   "id": "c1a2f9b8",
   "metadata": {},
   "outputs": [
    {
     "name": "stdout",
     "output_type": "stream",
     "text": [
      "[[ 1  1  1  1  1 -1  1  1 -1 -1  1  1 -1 -1 -1  1  1 -1  1  1  1  1]\n",
      " [-1  1 -1 -1 -1  1 -1 -1 -1 -1  1  1 -1  1  1 -1  1 -1 -1 -1 -1 -1]\n",
      " [-1 -1 -1 -1  1 -1  1  1 -1 -1 -1  1  1  1  1 -1 -1 -1  1  1 -1 -1]\n",
      " [ 1 -1  1 -1 -1  1 -1 -1 -1  1  1 -1 -1 -1  1 -1 -1 -1  1 -1  1 -1]\n",
      " [ 1  1 -1  1  1 -1  1  1 -1  1 -1  1  1 -1 -1 -1  1 -1 -1 -1  1  1]\n",
      " [ 1 -1 -1 -1 -1  1 -1  1  1 -1 -1 -1  1 -1  1  1 -1 -1  1  1 -1 -1]\n",
      " [ 1  1  1  1 -1 -1  1  1 -1 -1  1  1  1 -1  1 -1 -1 -1  1 -1  1  1]]\n",
      "[[-1  1  1  1 -1 -1  1  1  1  1 -1 -1  1  1  1 -1  1 -1 -1  1 -1 -1  1  1\n",
      "   1]\n",
      " [ 1  1 -1  1 -1  1  1 -1 -1  1 -1 -1  1  1  1  1  1 -1  1 -1  1 -1 -1  1\n",
      "  -1]\n",
      " [-1  1 -1 -1  1 -1  1 -1  1 -1 -1 -1 -1  1  1  1  1 -1  1  1  1 -1  1 -1\n",
      "   1]\n",
      " [ 1 -1 -1 -1 -1  1 -1  1  1  1  1 -1  1 -1  1 -1  1 -1 -1 -1  1 -1  1 -1\n",
      "   1]\n",
      " [-1 -1 -1 -1 -1  1  1 -1 -1  1 -1 -1  1 -1 -1  1  1  1  1  1  1  1  1 -1\n",
      "  -1]\n",
      " [ 1 -1 -1  1  1 -1 -1  1  1  1  1  1  1  1 -1  1 -1 -1 -1  1 -1 -1  1  1\n",
      "   1]\n",
      " [-1  1 -1  1  1 -1  1  1 -1 -1  1 -1  1  1 -1 -1 -1 -1 -1  1  1  1 -1  1\n",
      "   1]\n",
      " [-1  1  1  1  1 -1  1  1 -1 -1 -1 -1  1 -1  1 -1  1  1  1 -1  1 -1  1 -1\n",
      "  -1]\n",
      " [ 1  1  1 -1  1  1  1 -1 -1  1  1 -1 -1  1 -1  1  1 -1 -1  1 -1  1  1 -1\n",
      "  -1]\n",
      " [-1 -1  1  1  1  1 -1  1 -1  1 -1 -1  1  1  1  1 -1 -1  1  1  1 -1 -1  1\n",
      "  -1]\n",
      " [-1 -1 -1  1 -1  1  1 -1 -1 -1 -1  1  1  1 -1 -1 -1  1  1  1 -1 -1  1  1\n",
      "  -1]\n",
      " [ 1  1 -1  1  1  1 -1 -1  1  1 -1 -1  1  1 -1 -1  1  1  1 -1  1 -1 -1 -1\n",
      "   1]\n",
      " [-1 -1 -1  1  1  1 -1  1  1  1 -1 -1 -1 -1  1 -1 -1 -1 -1  1 -1 -1  1  1\n",
      "   1]\n",
      " [ 1 -1 -1 -1 -1 -1 -1  1 -1 -1 -1  1  1 -1  1  1  1  1 -1 -1 -1 -1  1 -1\n",
      "  -1]\n",
      " [-1 -1  1  1  1  1 -1 -1  1 -1  1 -1 -1  1 -1  1 -1 -1  1  1 -1 -1  1  1\n",
      "  -1]\n",
      " [-1 -1 -1  1  1 -1 -1 -1 -1 -1  1  1 -1  1  1  1  1 -1 -1  1 -1  1  1  1\n",
      "   1]\n",
      " [-1  1  1 -1 -1 -1  1  1  1  1  1 -1  1  1 -1  1  1 -1 -1  1 -1 -1 -1 -1\n",
      "  -1]\n",
      " [-1  1  1  1 -1 -1  1 -1 -1 -1  1 -1 -1  1 -1 -1 -1 -1  1  1 -1 -1  1  1\n",
      "   1]\n",
      " [ 1 -1 -1  1 -1 -1 -1 -1  1 -1  1  1  1 -1  1 -1  1 -1  1  1  1 -1  1 -1\n",
      "  -1]\n",
      " [-1 -1 -1 -1 -1 -1 -1  1  1  1  1 -1  1 -1 -1  1  1 -1  1  1 -1  1 -1 -1\n",
      "  -1]\n",
      " [-1  1 -1  1  1 -1 -1 -1  1  1  1 -1  1 -1  1 -1  1 -1  1  1  1 -1 -1 -1\n",
      "  -1]\n",
      " [ 1  1  1  1  1  1 -1 -1  1  1 -1 -1  1  1 -1  1 -1 -1 -1  1  1 -1  1 -1\n",
      "   1]\n",
      " [-1 -1 -1 -1 -1  1 -1  1  1  1 -1  1  1 -1  1 -1  1 -1  1  1 -1  1 -1 -1\n",
      "   1]\n",
      " [-1  1 -1  1 -1  1 -1  1 -1 -1  1  1  1  1 -1  1  1 -1  1 -1 -1 -1  1 -1\n",
      "  -1]\n",
      " [ 1  1  1  1 -1  1  1 -1  1 -1  1  1  1  1 -1  1 -1  1  1 -1  1  1  1  1\n",
      "   1]]\n"
     ]
    }
   ],
   "source": [
    "import numpy as np\n",
    "from numpy.random import rand\n",
    "import matplotlib.pyplot as plt\n",
    "\n",
    "def inicio(n,m):   \n",
    "    #genera una matriz de n x m con valores aleatorios -1 y 1\n",
    "    estadoinicial = 2*np.random.randint(2, size=(n,m))-1\n",
    "    return estadoinicial\n",
    "\n",
    "#prueba\n",
    "a1=inicio(7,22)\n",
    "print(a1)\n",
    "config=inicio(25,25)\n",
    "print(config)"
   ]
  },
  {
   "cell_type": "code",
   "execution_count": 15,
   "id": "e64e6abc",
   "metadata": {},
   "outputs": [
    {
     "name": "stdout",
     "output_type": "stream",
     "text": [
      "-20.0\n"
     ]
    }
   ],
   "source": [
    "def hamiltonian (estado,n,m,J):\n",
    "    #calcula hamiltoniano para un sistema completo con periodicidad n,m, y J de transmisión.\n",
    "    energy = 0\n",
    "    for i in range(len(estado)):\n",
    "        for j in range(len(estado[0])):\n",
    "            H = estado[i][j]*(estado[(i+1)%n][j] + estado[i][(j+1)%m] + estado[(i-1)%n][j] + estado[i][(j-1)%m])\n",
    "            energy += -J*H/4\n",
    "    return energy\n",
    "\n",
    "H=hamiltonian(a1,7,22,1)\n",
    "\n",
    "print(H)\n",
    "\n"
   ]
  },
  {
   "cell_type": "code",
   "execution_count": 4,
   "id": "5df3d6ce",
   "metadata": {},
   "outputs": [
    {
     "name": "stdout",
     "output_type": "stream",
     "text": [
      "-0.05194805194805195\n"
     ]
    }
   ],
   "source": [
    "def magnet (estado):\n",
    "    #magnetización definida como la suma de todos los spins normalizada a la cantidad de particulas\n",
    "    B=np.sum(estado)/(len(estado)*len(estado[0]))\n",
    "    return B\n",
    "\n",
    "B0=magnet(a1)\n",
    "print(B0)"
   ]
  },
  {
   "cell_type": "code",
   "execution_count": 4,
   "id": "ce264855",
   "metadata": {},
   "outputs": [
    {
     "name": "stdout",
     "output_type": "stream",
     "text": [
      "22\n",
      "[[-1 -1 -1 -1 -1 -1 -1 -1 -1 -1 -1 -1 -1 -1 -1 -1 -1 -1 -1 -1 -1 -1]\n",
      " [-1 -1 -1 -1 -1 -1 -1 -1 -1 -1 -1 -1 -1 -1 -1 -1 -1 -1 -1 -1 -1 -1]\n",
      " [-1 -1 -1 -1 -1 -1 -1 -1 -1 -1 -1 -1 -1 -1 -1 -1 -1 -1 -1 -1 -1 -1]\n",
      " [-1 -1 -1 -1 -1 -1 -1 -1 -1 -1 -1 -1 -1 -1 -1 -1 -1 -1 -1 -1 -1 -1]\n",
      " [-1 -1 -1 -1 -1 -1 -1 -1 -1 -1 -1 -1 -1 -1 -1 -1 -1 -1 -1 -1 -1 -1]\n",
      " [-1 -1 -1 -1 -1 -1 -1 -1 -1 -1 -1 -1 -1 -1 -1 -1 -1 -1 -1 -1 -1 -1]\n",
      " [-1 -1 -1 -1 -1 -1 -1 -1 -1 -1 -1 -1 -1 -1 -1 -1 -1 -1 -1 -1 -1 -1]]\n",
      "-616\n"
     ]
    }
   ],
   "source": [
    "print(len(a1[0]))\n",
    "a2 = np.ones((7, 22), dtype=int)\n",
    "a3=a2*-1\n",
    "print(a3)\n",
    "H2=hamiltonian(a3,7,22,1)\n",
    "print(H2)\n",
    "\n"
   ]
  },
  {
   "cell_type": "code",
   "execution_count": null,
   "id": "d53428c8",
   "metadata": {},
   "outputs": [
    {
     "name": "stdout",
     "output_type": "stream",
     "text": [
      "[[ 1  1  1  1  1 -1  1  1 -1 -1  1  1 -1 -1  1  1  1 -1  1  1  1  1]\n",
      " [-1  1 -1 -1 -1  1  1 -1 -1 -1  1  1 -1  1  1  1  1 -1 -1 -1 -1 -1]\n",
      " [-1 -1 -1 -1  1 -1  1  1 -1 -1 -1  1  1  1  1 -1 -1 -1  1  1 -1 -1]\n",
      " [-1 -1 -1 -1  1  1 -1 -1 -1  1 -1 -1 -1 -1  1 -1 -1 -1  1 -1  1 -1]\n",
      " [ 1 -1 -1  1  1  1  1  1 -1  1 -1  1  1 -1 -1 -1  1 -1 -1 -1  1  1]\n",
      " [ 1 -1 -1 -1 -1  1 -1  1  1 -1 -1 -1  1 -1  1  1 -1 -1  1  1 -1 -1]\n",
      " [ 1  1  1  1 -1 -1  1  1  1 -1  1  1  1 -1  1  1 -1 -1  1 -1  1  1]]\n"
     ]
    }
   ],
   "source": [
    "def MetHas (estado,J,b):\n",
    "    #algoritmo metropolis-hastings, para un array arbitrario de 1s y -1s.\n",
    "    for i in range(len(estado)):\n",
    "        for j in range(len(estado[0])):\n",
    "            p1 = np.random.randint(0, len(estado))\n",
    "            p2 = np.random.randint(0, len(estado[0]))\n",
    "            estado[p1,p2] *= -1\n",
    "            s=estado[p1,p2]\n",
    "            # Acá ajusté las posiciones para no sumar sobre toda la matriz sino solo los vecinos\n",
    "            xpp = (p1 + 1) if (p1 + 1) < len(estado) else 0\n",
    "            ypp = (p2 + 1) if (p2 + 1) < len(estado[0]) else 0\n",
    "            xnn = (p1 - 1) if (p1 - 1) >= 0 else (len(estado) - 1)\n",
    "            ynn = (p2 - 1) if (p2 - 1) >= 0 else (len(estado[0]) - 1)\n",
    "            R = estado[xpp, p2] + estado[p1, ypp] + estado[xnn, p2] + estado[p1, ynn]\n",
    "\n",
    "            #variación del Hamiltonian, si cambiamos un estado\n",
    "            E=2*s*R\n",
    "            if E < 0:\n",
    "                estado[p1,p2] *= -1\n",
    "            elif rand() < np.exp(-E*b):\n",
    "                estado[p1,p2] *= -1\n",
    "    return estado \n",
    "\n",
    "\n",
    "\n",
    "\n",
    "a4 = MetHas(a1,1,0.1)\n",
    "print(a4)\n",
    "   "
   ]
  },
  {
   "cell_type": "code",
   "execution_count": 9,
   "id": "3b15ca50",
   "metadata": {},
   "outputs": [],
   "source": [
    "def entropIsing(estado):\n",
    "    #entropia de un array tipo modelo de ising\n",
    "    W=2**(len(estado)*len(estado[0]))+0.001\n",
    "    L = np.log(W)\n",
    "    S=1.38*10**(-23)*L\n",
    "    return S\n"
   ]
  },
  {
   "cell_type": "code",
   "execution_count": 10,
   "id": "6813b3bd",
   "metadata": {},
   "outputs": [
    {
     "data": {
      "text/plain": [
       "np.float64(1.4730763881259956e-21)"
      ]
     },
     "execution_count": 10,
     "metadata": {},
     "output_type": "execute_result"
    }
   ],
   "source": [
    "entropIsing(a1)"
   ]
  },
  {
   "cell_type": "code",
   "execution_count": 44,
   "id": "c3e871ab",
   "metadata": {},
   "outputs": [],
   "source": [
    "#Setear pasos de temperatura\n",
    "T_steps = 55\n",
    "x_dim = 20\n",
    "y_dim= 12\n",
    "eqSteps = 1024       #  pasos para equilibrar el algoritmo térmicamente (arbitrario ya que nada me indica que se esta en equilibrio)\n",
    "mcSteps = 128      #  iteraciones  \n",
    "\n",
    "T       = np.linspace(0.0001, 1, T_steps); #creando rango de temperaturas y weas vacías pa meterles los datos\n",
    "E,M,S = np.zeros(T_steps), np.zeros(T_steps), np.zeros(T_steps)\n",
    "n  = 1.0/(mcSteps*x_dim*y_dim)\n",
    "\n"
   ]
  },
  {
   "cell_type": "code",
   "execution_count": 45,
   "id": "e55f5bf7",
   "metadata": {},
   "outputs": [],
   "source": [
    "#----------------------------------------------------------------------\n",
    "#  MAIN PART OF THE CODE\n",
    "#----------------------------------------------------------------------\n",
    "for tt in range(T_steps):\n",
    "    E1 = M1 = E2 = M2 = S1 = 0\n",
    "    config = inicio(x_dim,y_dim)\n",
    "    iT=1.0/T[tt];\n",
    "    \n",
    "    for i in range(eqSteps):         #equilibrar el Met-Has\n",
    "        MetHas(config,1, iT)\n",
    "\n",
    "    for i in range(mcSteps):   #hacer integración tipo monte carlo\n",
    "        MetHas(config,1, iT)           \n",
    "        Ene = hamiltonian(config,x_dim, y_dim, 1)     \n",
    "        Mag = magnet(config)        \n",
    "        Ent = entropIsing(config)\n",
    "\n",
    "        E1 = E1 + Ene\n",
    "        M1 = M1 + Mag\n",
    "        S1 = S1 + Ent\n",
    "\n",
    "    E[tt] = n*E1        #promedio los valores y lo vuelvo intensivo\n",
    "    M[tt] = n*M1\n",
    "    S[tt] = n*S1"
   ]
  },
  {
   "cell_type": "code",
   "execution_count": 14,
   "id": "30f5a474",
   "metadata": {},
   "outputs": [
    {
     "name": "stdout",
     "output_type": "stream",
     "text": [
      "[[ 1  1  1  1 -1 -1  1  1  1  1 -1 -1  1  1  1  1  1  1  1  1  1  1  1  1\n",
      "   1]\n",
      " [ 1  1 -1 -1 -1 -1  1  1  1 -1 -1 -1  1  1  1  1  1  1  1  1  1  1  1 -1\n",
      "  -1]\n",
      " [-1 -1 -1 -1 -1 -1  1  1  1 -1 -1 -1  1  1  1  1  1  1  1  1  1  1  1 -1\n",
      "  -1]\n",
      " [-1 -1 -1 -1 -1  1  1  1  1  1  1  1  1  1  1  1  1  1  1  1  1  1  1 -1\n",
      "  -1]\n",
      " [-1 -1 -1 -1 -1  1  1  1  1  1  1  1  1  1  1  1  1  1  1  1  1  1  1 -1\n",
      "  -1]\n",
      " [-1 -1 -1  1  1  1  1  1  1  1  1  1  1  1  1  1 -1 -1 -1  1  1  1  1  1\n",
      "   1]\n",
      " [-1 -1 -1  1  1  1  1  1 -1 -1  1  1  1  1  1  1 -1 -1 -1  1  1 -1 -1  1\n",
      "   1]\n",
      " [-1  1  1  1  1  1  1  1 -1 -1 -1 -1 -1  1  1  1  1  1  1  1  1 -1 -1 -1\n",
      "  -1]\n",
      " [-1  1  1  1  1  1  1 -1 -1 -1 -1 -1 -1  1  1  1  1  1  1  1  1 -1 -1 -1\n",
      "  -1]\n",
      " [-1 -1  1  1  1  1 -1 -1 -1 -1 -1 -1  1  1  1  1  1  1  1  1  1 -1 -1 -1\n",
      "  -1]\n",
      " [-1 -1 -1  1  1  1 -1 -1 -1 -1 -1 -1  1  1 -1 -1 -1  1  1  1  1 -1  1  1\n",
      "  -1]\n",
      " [ 1 -1 -1  1  1  1 -1 -1  1  1 -1 -1  1  1 -1 -1 -1  1  1  1  1 -1  1  1\n",
      "   1]\n",
      " [ 1 -1 -1  1  1  1 -1 -1  1  1 -1 -1 -1 -1 -1 -1 -1 -1 -1 -1 -1 -1  1  1\n",
      "   1]\n",
      " [-1 -1 -1 -1 -1 -1 -1 -1 -1 -1 -1 -1 -1 -1  1  1  1 -1 -1 -1 -1 -1  1  1\n",
      "  -1]\n",
      " [-1 -1  1  1  1 -1 -1 -1 -1 -1 -1 -1 -1 -1  1  1  1 -1 -1 -1 -1 -1  1  1\n",
      "  -1]\n",
      " [-1 -1  1  1  1 -1 -1 -1 -1 -1  1  1  1  1  1  1  1 -1 -1 -1 -1 -1  1  1\n",
      "  -1]\n",
      " [-1  1  1  1 -1 -1 -1 -1 -1 -1  1  1  1  1  1  1  1 -1 -1 -1 -1 -1 -1 -1\n",
      "  -1]\n",
      " [-1  1  1  1 -1 -1 -1 -1 -1 -1  1  1  1  1 -1 -1 -1 -1  1  1 -1 -1 -1 -1\n",
      "  -1]\n",
      " [-1 -1 -1 -1 -1 -1 -1 -1 -1 -1  1  1  1 -1 -1 -1 -1 -1  1  1  1 -1 -1 -1\n",
      "  -1]\n",
      " [-1 -1 -1 -1 -1 -1 -1 -1  1  1  1  1  1 -1 -1 -1 -1 -1  1  1  1 -1 -1 -1\n",
      "  -1]\n",
      " [-1  1  1  1  1 -1 -1 -1  1  1  1  1  1 -1 -1 -1 -1 -1  1  1  1 -1 -1 -1\n",
      "  -1]\n",
      " [-1  1  1  1  1  1 -1 -1  1  1  1  1  1  1  1  1 -1 -1  1  1  1 -1 -1 -1\n",
      "  -1]\n",
      " [-1 -1 -1 -1 -1  1 -1 -1  1  1  1  1  1  1  1  1  1  1  1  1  1 -1 -1 -1\n",
      "  -1]\n",
      " [-1  1  1  1 -1  1 -1 -1  1  1  1  1  1  1  1  1  1  1  1  1  1  1  1 -1\n",
      "  -1]\n",
      " [ 1  1  1  1 -1  1  1  1  1  1  1  1  1  1  1  1  1  1  1  1  1  1  1  1\n",
      "   1]]\n"
     ]
    }
   ],
   "source": [
    "for i in range(eqSteps):         # equilibrate\n",
    "        MetHas(config, 1, 1) \n",
    "\n",
    "print(config)"
   ]
  },
  {
   "cell_type": "code",
   "execution_count": 43,
   "id": "290d9b51",
   "metadata": {},
   "outputs": [
    {
     "name": "stdout",
     "output_type": "stream",
     "text": [
      "[-0.675      -0.55833333 -0.68333333 -0.56666667 -0.53333333 -0.66666667\n",
      " -0.61666667 -0.64166667 -0.56666667 -0.69166667 -0.55       -0.53333333\n",
      " -0.54166667 -0.6        -0.59166667 -0.66666667 -0.66666667 -0.63333333\n",
      " -0.61666667 -0.59166667 -0.7        -0.6        -0.6        -0.575\n",
      " -0.525      -0.50833333 -0.7        -0.51666667 -0.575      -0.56666667\n",
      " -0.6        -0.56666667 -0.7        -0.7        -0.65       -0.625\n",
      " -0.625      -0.61666667 -0.61666667 -0.63333333 -0.75833333 -0.64166667\n",
      " -0.64166667 -0.58333333 -0.61666667 -0.55       -0.65       -0.63333333\n",
      " -0.6        -0.76666667 -0.59166667 -0.55833333 -0.575      -0.66666667\n",
      " -0.575     ]\n"
     ]
    }
   ],
   "source": [
    "print(E)\n"
   ]
  },
  {
   "cell_type": "code",
   "execution_count": null,
   "id": "c82a38dd",
   "metadata": {},
   "outputs": [],
   "source": []
  }
 ],
 "metadata": {
  "kernelspec": {
   "display_name": "Python 3",
   "language": "python",
   "name": "python3"
  },
  "language_info": {
   "codemirror_mode": {
    "name": "ipython",
    "version": 3
   },
   "file_extension": ".py",
   "mimetype": "text/x-python",
   "name": "python",
   "nbconvert_exporter": "python",
   "pygments_lexer": "ipython3",
   "version": "3.13.7"
  }
 },
 "nbformat": 4,
 "nbformat_minor": 5
}
